{
 "cells": [
  {
   "cell_type": "code",
   "execution_count": 25,
   "metadata": {},
   "outputs": [],
   "source": [
    "import qiskit as q\n",
    "from distributions import *\n",
    "import matplotlib.pyplot as plt\n",
    "from scipy.optimize import minimize\n",
    "from math import pi"
   ]
  },
  {
   "cell_type": "code",
   "execution_count": 26,
   "metadata": {},
   "outputs": [],
   "source": [
    "# Desired distribution\n",
    "\n",
    "n=4 # number of qubits in register\n",
    "\n",
    "symmetric = False\n",
    " \n",
    "def desired_distribution(n):\n",
    "    #return normal_distr(n, sigmas=4)\n",
    "    return maxwell_boltzmann(n, sigmas=2)"
   ]
  },
  {
   "cell_type": "code",
   "execution_count": 27,
   "metadata": {},
   "outputs": [],
   "source": [
    "# Circuit definition\n",
    "\n",
    "def sym_circuit(n, thetas):\n",
    "    c = q.QuantumCircuit(n)\n",
    "    for i, theta in enumerate(thetas):\n",
    "        c.ry(theta, n-1-i)\n",
    "    for i in range(1,n):\n",
    "        c.cnot(n-1, n-1-i)\n",
    "    return c\n",
    "\n",
    "def asym_circuit(n, thetas):\n",
    "    c = q.QuantumCircuit(n)\n",
    "    c.ry(thetas[0], n-1)\n",
    "    c.x(n-1)\n",
    "    for i in range(n-1):\n",
    "        c.cry(thetas[1+i], n-1, n-2-i)\n",
    "    for i in range(0,n-2):\n",
    "        c.cnot(n-2, i)\n",
    "    c.x(n-2)\n",
    "    return c"
   ]
  },
  {
   "cell_type": "code",
   "execution_count": 28,
   "metadata": {},
   "outputs": [],
   "source": [
    "# Auxiliary functions\n",
    "\n",
    "def get_distribution(c):\n",
    "    simulator = q.Aer.get_backend('statevector_simulator')\n",
    "    transpiled_circuit = q.transpile(c, simulator)\n",
    "    result = simulator.run(transpiled_circuit).result()\n",
    "    statevector = result.get_statevector()\n",
    "\n",
    "    return [abs(amplitude)**2 for amplitude in statevector]\n",
    "\n",
    "def norm2(distr1, distr2):\n",
    "    return np.linalg.norm(np.array(distr1) - np.array(distr2), ord=2)\n",
    "\n",
    "def plot_distribution(probabilities, n): \n",
    "    labels = [bin(i)[2:].zfill(n) for i in range(2**n)] \n",
    "    plt.bar(labels, probabilities)\n",
    "    plt.xlabel('Outcome')\n",
    "    plt.ylabel('Probability')\n",
    "    plt.title('Probability distribution')\n",
    "    plt.show()\n",
    "\n",
    "def compare_plots(p1, p2, n, label1=\"Obtained\", label2=\"Desired\"):\n",
    "    labels = [bin(i)[2:].zfill(n) for i in range(2**n)]\n",
    "    plt.bar(labels, p1, alpha=0.5, label=label1)\n",
    "    plt.bar(labels, p2, alpha=0.5, label=label2)\n",
    "    plt.xlabel('Outcome')\n",
    "    plt.ylabel('Probability')\n",
    "    plt.title('Probability distribution')\n",
    "    plt.legend()\n",
    "    plt.xticks(rotation=90)\n",
    "    plt.show()"
   ]
  },
  {
   "cell_type": "code",
   "execution_count": 29,
   "metadata": {},
   "outputs": [
    {
     "name": "stderr",
     "output_type": "stream",
     "text": [
      "/var/folders/5y/jz3blnc95r73l864rdlw8cth0000gn/T/ipykernel_6679/3436323309.py:9: DeprecationWarning: The return type of saved statevectors has been changed from a `numpy.ndarray` to a `qiskit.quantum_info.Statevector` as of qiskit-aer 0.10. Accessing numpy array attributes is deprecated and will result in an error in a future release. To continue using saved result objects as arrays you can explicitly cast them using  `np.asarray(object)`.\n",
      "  return [abs(amplitude)**2 for amplitude in statevector]\n"
     ]
    },
    {
     "name": "stdout",
     "output_type": "stream",
     "text": [
      "Optimal Parameters: [0.88711333 1.8870966  1.69958718 1.63293357]\n",
      "Optimal Objective Value: 0.3241620370752208\n"
     ]
    }
   ],
   "source": [
    "# Minimization routine\n",
    "\n",
    "def minimization_function(thetas):\n",
    "    if symmetric:\n",
    "        c = sym_circuit(n, [pi/2,] + list(thetas))\n",
    "    else:\n",
    "        c = asym_circuit(n, list(thetas))\n",
    "    prob = get_distribution(c)\n",
    "    desired_prob = desired_distribution(n)\n",
    "\n",
    "    return(norm2(prob, desired_prob))\n",
    "\n",
    "if symmetric:\n",
    "    initial_guess = [(2+i)/(3+i)*pi for i in range(n-1)]\n",
    "else:\n",
    "    initial_guess = [(1+i)/(2+i)*pi for i in range(n)]\n",
    "\n",
    "result = minimize(minimization_function, initial_guess, method='COBYLA')\n",
    "\n",
    "# Print the result\n",
    "print(\"Optimal Parameters:\", result.x)\n",
    "print(\"Optimal Objective Value:\", result.fun)"
   ]
  },
  {
   "cell_type": "code",
   "execution_count": 30,
   "metadata": {},
   "outputs": [
    {
     "name": "stderr",
     "output_type": "stream",
     "text": [
      "/var/folders/5y/jz3blnc95r73l864rdlw8cth0000gn/T/ipykernel_6679/3436323309.py:9: DeprecationWarning: The return type of saved statevectors has been changed from a `numpy.ndarray` to a `qiskit.quantum_info.Statevector` as of qiskit-aer 0.10. Accessing numpy array attributes is deprecated and will result in an error in a future release. To continue using saved result objects as arrays you can explicitly cast them using  `np.asarray(object)`.\n",
      "  return [abs(amplitude)**2 for amplitude in statevector]\n"
     ]
    },
    {
     "data": {
      "image/png": "[encoded data removed]",
      "text/plain": [
       "<Figure size 640x480 with 1 Axes>"
      ]
     },
     "metadata": {},
     "output_type": "display_data"
    }
   ],
   "source": [
    "# Plotting result\n",
    "\n",
    "if symmetric:\n",
    "    c = sym_circuit(n, [pi/2,] + list(result.x))\n",
    "else:\n",
    "    c = sym_circuit(n, list(result.x))\n",
    "prob = get_distribution(c)\n",
    "desired_prob = desired_distribution(n)\n",
    "compare_plots(prob, desired_prob, n)"
   ]
  }
 ],
 "metadata": {
  "kernelspec": {
   "display_name": "Workspace-qalPIEOO",
   "language": "python",
   "name": "python3"
  },
  "language_info": {
   "codemirror_mode": {
    "name": "ipython",
    "version": 3
   },
   "file_extension": ".py",
   "mimetype": "text/x-python",
   "name": "python",
   "nbconvert_exporter": "python",
   "pygments_lexer": "ipython3",
   "version": "3.10.0"
  },
  "orig_nbformat": 4
 },
 "nbformat": 4,
 "nbformat_minor": 2
}
